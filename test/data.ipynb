{
 "cells": [
  {
   "cell_type": "markdown",
   "metadata": {},
   "source": [
    "# Configuration"
   ]
  },
  {
   "cell_type": "code",
   "execution_count": null,
   "metadata": {},
   "outputs": [],
   "source": [
    "cd '/Users/xusikun/Desktop/Research/[research]tsinghua_options/options-study'"
   ]
  },
  {
   "cell_type": "code",
   "execution_count": 2,
   "metadata": {},
   "outputs": [],
   "source": [
    "import os \n",
    "import scipy.io\n",
    "import pandas as pd \n",
    "import numpy as np\n",
    "\n",
    "from datetime import datetime"
   ]
  },
  {
   "cell_type": "code",
   "execution_count": 3,
   "metadata": {},
   "outputs": [],
   "source": [
    "DATA = 'data/'"
   ]
  },
  {
   "cell_type": "code",
   "execution_count": 59,
   "metadata": {},
   "outputs": [],
   "source": [
    "mat = scipy.io.loadmat(os.path.join(DATA, 'DataFile.mat'))"
   ]
  },
  {
   "cell_type": "code",
   "execution_count": 60,
   "metadata": {},
   "outputs": [
    {
     "name": "stdout",
     "output_type": "stream",
     "text": [
      "__header__ b'MATLAB 5.0 MAT-file, Platform: PCWIN64, Created on: Fri Jun 11 17:36:09 2021'\n",
      "__version__ 1.0\n",
      "__globals__ []\n"
     ]
    }
   ],
   "source": [
    "mat.keys()\n",
    "print('__header__', mat['__header__'])\n",
    "print('__version__', mat['__version__'])\n",
    "print('__globals__', mat['__globals__'])"
   ]
  },
  {
   "cell_type": "markdown",
   "metadata": {},
   "source": [
    "# Contracts"
   ]
  },
  {
   "cell_type": "code",
   "execution_count": 92,
   "metadata": {},
   "outputs": [
    {
     "name": "stdout",
     "output_type": "stream",
     "text": [
      "(1531, 21)\n"
     ]
    }
   ],
   "source": [
    "C = mat['Contract'].flatten()[0][0]\n",
    "dates = [C[idx][0][0] for idx in range(C.shape[0])]\n",
    "print(C.shape)"
   ]
  },
  {
   "cell_type": "code",
   "execution_count": 255,
   "metadata": {},
   "outputs": [],
   "source": [
    "def get_daily_options_book(arr: np.array, date: str) -> pd.DataFrame:\n",
    "    book_idx_list = [5, 6, 9, 10, 13, 14, 17, 18]\n",
    "\n",
    "    # helper functions\n",
    "    def helper_tabular_option(arr):\n",
    "        new_arr = np.empty(arr.shape, dtype='object')\n",
    "        for ridx in range(arr.shape[0]):\n",
    "            for cidx in range(arr.shape[1]):\n",
    "                new_arr[ridx, cidx] = arr[ridx][cidx].flatten()[0]\n",
    "        return new_arr\n",
    "    \n",
    "    df_list = []\n",
    "    for idx in book_idx_list:\n",
    "        df_list += [pd.DataFrame(helper_tabular_option(arr[idx]), columns=['code', 'name', 'strike', 'date', 'exp_date'])]\n",
    "    \n",
    "    options_book = pd.concat(df_list, axis=0)\n",
    "    options_book['exp_date'] = [str(date).replace('/', '-') for date in options_book['exp_date']]\n",
    "    options_book['date'] = [str(date).replace('/', '-') for date in options_book['date']]\n",
    "    options_book.insert(0, 'asof', [date.replace('/', '-') for i in range(options_book.shape[0])])\n",
    "    options_book.insert(options_book.shape[1], 'time_to_exp', pd.to_datetime(options_book['exp_date']) - pd.to_datetime(options_book['asof']))\n",
    "    \n",
    "    # clean \n",
    "    options_book.drop_duplicates(inplace=True)\n",
    "    \n",
    "    # \n",
    "    type_list = [None] * options_book.shape[0]\n",
    "    for idx, item in enumerate(options_book['name']):\n",
    "        if item[5] == '购':\n",
    "            type_list[idx] = 'CALL'\n",
    "        else:\n",
    "            type_list[idx] = 'PUT'\n",
    "    options_book.insert(3, 'type', type_list)\n",
    "    \n",
    "    return options_book"
   ]
  },
  {
   "cell_type": "code",
   "execution_count": 256,
   "metadata": {},
   "outputs": [],
   "source": [
    "def get_full_options_data(arr: np.array, dates: list):\n",
    "    book_list = [get_daily_options_book(arr[idx], dates[idx]) for idx in range(len(dates))]\n",
    "    \n",
    "    options_book = pd.concat(book_list, axis=0)\n",
    "    \n",
    "    return options_book"
   ]
  },
  {
   "cell_type": "code",
   "execution_count": 257,
   "metadata": {},
   "outputs": [],
   "source": [
    "full = get_full_options_data(C, dates)"
   ]
  },
  {
   "cell_type": "markdown",
   "metadata": {},
   "source": [
    "## Strangle"
   ]
  },
  {
   "cell_type": "code",
   "execution_count": 358,
   "metadata": {},
   "outputs": [],
   "source": [
    "from src.strategy import get_daily_strangle"
   ]
  },
  {
   "cell_type": "code",
   "execution_count": 366,
   "metadata": {},
   "outputs": [
    {
     "name": "stdout",
     "output_type": "stream",
     "text": [
      "CPU times: user 1min 23s, sys: 1.43 s, total: 1min 24s\n",
      "Wall time: 1min 28s\n"
     ]
    }
   ],
   "source": [
    "%%time\n",
    "security_selected = []\n",
    "for date in full['asof'].unique():\n",
    "    daily = full[full['asof'] == date].reset_index(drop=True)\n",
    "    security_selected += get_daily_strangle(\n",
    "        date=date, \n",
    "        options_book=daily, \n",
    "        ETF=ETF\n",
    "    )"
   ]
  },
  {
   "cell_type": "code",
   "execution_count": 367,
   "metadata": {},
   "outputs": [
    {
     "data": {
      "text/html": [
       "<div>\n",
       "<style scoped>\n",
       "    .dataframe tbody tr th:only-of-type {\n",
       "        vertical-align: middle;\n",
       "    }\n",
       "\n",
       "    .dataframe tbody tr th {\n",
       "        vertical-align: top;\n",
       "    }\n",
       "\n",
       "    .dataframe thead th {\n",
       "        text-align: right;\n",
       "    }\n",
       "</style>\n",
       "<table border=\"1\" class=\"dataframe\">\n",
       "  <thead>\n",
       "    <tr style=\"text-align: right;\">\n",
       "      <th></th>\n",
       "      <th>asof</th>\n",
       "      <th>code</th>\n",
       "      <th>name</th>\n",
       "      <th>type</th>\n",
       "      <th>strike</th>\n",
       "      <th>date</th>\n",
       "      <th>exp_date</th>\n",
       "      <th>time_to_exp</th>\n",
       "    </tr>\n",
       "  </thead>\n",
       "  <tbody>\n",
       "    <tr>\n",
       "      <th>0</th>\n",
       "      <td>2015-02-16</td>\n",
       "      <td>10000049.SH</td>\n",
       "      <td>50ETF购3月2500</td>\n",
       "      <td>CALL</td>\n",
       "      <td>2.5</td>\n",
       "      <td>2015-02-12</td>\n",
       "      <td>2015-03-25</td>\n",
       "      <td>37 days</td>\n",
       "    </tr>\n",
       "    <tr>\n",
       "      <th>1</th>\n",
       "      <td>2015-02-16</td>\n",
       "      <td>10000008.SH</td>\n",
       "      <td>50ETF沽3月2300</td>\n",
       "      <td>PUT</td>\n",
       "      <td>2.3</td>\n",
       "      <td>2015-02-09</td>\n",
       "      <td>2015-03-25</td>\n",
       "      <td>37 days</td>\n",
       "    </tr>\n",
       "    <tr>\n",
       "      <th>2</th>\n",
       "      <td>2015-02-16</td>\n",
       "      <td>10000051.SH</td>\n",
       "      <td>50ETF购4月2500</td>\n",
       "      <td>CALL</td>\n",
       "      <td>2.5</td>\n",
       "      <td>2015-02-12</td>\n",
       "      <td>2015-04-22</td>\n",
       "      <td>65 days</td>\n",
       "    </tr>\n",
       "    <tr>\n",
       "      <th>3</th>\n",
       "      <td>2015-02-16</td>\n",
       "      <td>10000018.SH</td>\n",
       "      <td>50ETF沽4月2300</td>\n",
       "      <td>PUT</td>\n",
       "      <td>2.3</td>\n",
       "      <td>2015-02-09</td>\n",
       "      <td>2015-04-22</td>\n",
       "      <td>65 days</td>\n",
       "    </tr>\n",
       "    <tr>\n",
       "      <th>4</th>\n",
       "      <td>2015-02-16</td>\n",
       "      <td>10000053.SH</td>\n",
       "      <td>50ETF购6月2500</td>\n",
       "      <td>CALL</td>\n",
       "      <td>2.5</td>\n",
       "      <td>2015-02-12</td>\n",
       "      <td>2015-06-24</td>\n",
       "      <td>128 days</td>\n",
       "    </tr>\n",
       "    <tr>\n",
       "      <th>...</th>\n",
       "      <td>...</td>\n",
       "      <td>...</td>\n",
       "      <td>...</td>\n",
       "      <td>...</td>\n",
       "      <td>...</td>\n",
       "      <td>...</td>\n",
       "      <td>...</td>\n",
       "      <td>...</td>\n",
       "    </tr>\n",
       "    <tr>\n",
       "      <th>12492</th>\n",
       "      <td>2021-06-11</td>\n",
       "      <td>10003426.SH</td>\n",
       "      <td>50ETF沽7月3400</td>\n",
       "      <td>PUT</td>\n",
       "      <td>3.4</td>\n",
       "      <td>2021-5-27</td>\n",
       "      <td>2021-7-28</td>\n",
       "      <td>47 days</td>\n",
       "    </tr>\n",
       "    <tr>\n",
       "      <th>12493</th>\n",
       "      <td>2021-06-11</td>\n",
       "      <td>10003208.SH</td>\n",
       "      <td>50ETF购9月3700</td>\n",
       "      <td>CALL</td>\n",
       "      <td>3.7</td>\n",
       "      <td>2021-1-28</td>\n",
       "      <td>2021-9-22</td>\n",
       "      <td>103 days</td>\n",
       "    </tr>\n",
       "    <tr>\n",
       "      <th>12494</th>\n",
       "      <td>2021-06-11</td>\n",
       "      <td>10003214.SH</td>\n",
       "      <td>50ETF沽9月3400</td>\n",
       "      <td>PUT</td>\n",
       "      <td>3.4</td>\n",
       "      <td>2021-1-28</td>\n",
       "      <td>2021-9-22</td>\n",
       "      <td>103 days</td>\n",
       "    </tr>\n",
       "    <tr>\n",
       "      <th>12495</th>\n",
       "      <td>2021-06-11</td>\n",
       "      <td>10003379.SH</td>\n",
       "      <td>50ETF购12月3700</td>\n",
       "      <td>CALL</td>\n",
       "      <td>3.7</td>\n",
       "      <td>2021-4-29</td>\n",
       "      <td>2021-12-22</td>\n",
       "      <td>194 days</td>\n",
       "    </tr>\n",
       "    <tr>\n",
       "      <th>12496</th>\n",
       "      <td>2021-06-11</td>\n",
       "      <td>10003385.SH</td>\n",
       "      <td>50ETF沽12月3400</td>\n",
       "      <td>PUT</td>\n",
       "      <td>3.4</td>\n",
       "      <td>2021-4-29</td>\n",
       "      <td>2021-12-22</td>\n",
       "      <td>194 days</td>\n",
       "    </tr>\n",
       "  </tbody>\n",
       "</table>\n",
       "<p>12497 rows × 8 columns</p>\n",
       "</div>"
      ],
      "text/plain": [
       "             asof         code           name  type  strike        date  \\\n",
       "0      2015-02-16  10000049.SH   50ETF购3月2500  CALL     2.5  2015-02-12   \n",
       "1      2015-02-16  10000008.SH   50ETF沽3月2300   PUT     2.3  2015-02-09   \n",
       "2      2015-02-16  10000051.SH   50ETF购4月2500  CALL     2.5  2015-02-12   \n",
       "3      2015-02-16  10000018.SH   50ETF沽4月2300   PUT     2.3  2015-02-09   \n",
       "4      2015-02-16  10000053.SH   50ETF购6月2500  CALL     2.5  2015-02-12   \n",
       "...           ...          ...            ...   ...     ...         ...   \n",
       "12492  2021-06-11  10003426.SH   50ETF沽7月3400   PUT     3.4   2021-5-27   \n",
       "12493  2021-06-11  10003208.SH   50ETF购9月3700  CALL     3.7   2021-1-28   \n",
       "12494  2021-06-11  10003214.SH   50ETF沽9月3400   PUT     3.4   2021-1-28   \n",
       "12495  2021-06-11  10003379.SH  50ETF购12月3700  CALL     3.7   2021-4-29   \n",
       "12496  2021-06-11  10003385.SH  50ETF沽12月3400   PUT     3.4   2021-4-29   \n",
       "\n",
       "         exp_date time_to_exp  \n",
       "0      2015-03-25     37 days  \n",
       "1      2015-03-25     37 days  \n",
       "2      2015-04-22     65 days  \n",
       "3      2015-04-22     65 days  \n",
       "4      2015-06-24    128 days  \n",
       "...           ...         ...  \n",
       "12492   2021-7-28     47 days  \n",
       "12493   2021-9-22    103 days  \n",
       "12494   2021-9-22    103 days  \n",
       "12495  2021-12-22    194 days  \n",
       "12496  2021-12-22    194 days  \n",
       "\n",
       "[12497 rows x 8 columns]"
      ]
     },
     "execution_count": 367,
     "metadata": {},
     "output_type": "execute_result"
    }
   ],
   "source": [
    "pd.DataFrame(security_selected)"
   ]
  },
  {
   "cell_type": "markdown",
   "metadata": {},
   "source": [
    "***MISSNG OPTIONS PRICE DATA***"
   ]
  },
  {
   "cell_type": "markdown",
   "metadata": {},
   "source": [
    "# ETF "
   ]
  },
  {
   "cell_type": "code",
   "execution_count": 112,
   "metadata": {},
   "outputs": [
    {
     "data": {
      "text/html": [
       "<div>\n",
       "<style scoped>\n",
       "    .dataframe tbody tr th:only-of-type {\n",
       "        vertical-align: middle;\n",
       "    }\n",
       "\n",
       "    .dataframe tbody tr th {\n",
       "        vertical-align: top;\n",
       "    }\n",
       "\n",
       "    .dataframe thead th {\n",
       "        text-align: right;\n",
       "    }\n",
       "</style>\n",
       "<table border=\"1\" class=\"dataframe\">\n",
       "  <thead>\n",
       "    <tr style=\"text-align: right;\">\n",
       "      <th></th>\n",
       "      <th>open</th>\n",
       "      <th>high</th>\n",
       "      <th>low</th>\n",
       "      <th>close</th>\n",
       "      <th>adj_close</th>\n",
       "    </tr>\n",
       "  </thead>\n",
       "  <tbody>\n",
       "    <tr>\n",
       "      <th>2015-02-16</th>\n",
       "      <td>2.390</td>\n",
       "      <td>2.403</td>\n",
       "      <td>2.379</td>\n",
       "      <td>2.394</td>\n",
       "      <td>2.3900</td>\n",
       "    </tr>\n",
       "    <tr>\n",
       "      <th>2015-02-17</th>\n",
       "      <td>2.401</td>\n",
       "      <td>2.429</td>\n",
       "      <td>2.401</td>\n",
       "      <td>2.411</td>\n",
       "      <td>2.4155</td>\n",
       "    </tr>\n",
       "    <tr>\n",
       "      <th>2015-02-25</th>\n",
       "      <td>2.411</td>\n",
       "      <td>2.411</td>\n",
       "      <td>2.359</td>\n",
       "      <td>2.370</td>\n",
       "      <td>2.3850</td>\n",
       "    </tr>\n",
       "    <tr>\n",
       "      <th>2015-02-26</th>\n",
       "      <td>2.368</td>\n",
       "      <td>2.452</td>\n",
       "      <td>2.348</td>\n",
       "      <td>2.450</td>\n",
       "      <td>2.4051</td>\n",
       "    </tr>\n",
       "    <tr>\n",
       "      <th>2015-02-27</th>\n",
       "      <td>2.447</td>\n",
       "      <td>2.465</td>\n",
       "      <td>2.428</td>\n",
       "      <td>2.438</td>\n",
       "      <td>2.4494</td>\n",
       "    </tr>\n",
       "    <tr>\n",
       "      <th>...</th>\n",
       "      <td>...</td>\n",
       "      <td>...</td>\n",
       "      <td>...</td>\n",
       "      <td>...</td>\n",
       "      <td>...</td>\n",
       "    </tr>\n",
       "    <tr>\n",
       "      <th>2021-06-07</th>\n",
       "      <td>3.604</td>\n",
       "      <td>3.606</td>\n",
       "      <td>3.570</td>\n",
       "      <td>3.593</td>\n",
       "      <td>3.5840</td>\n",
       "    </tr>\n",
       "    <tr>\n",
       "      <th>2021-06-08</th>\n",
       "      <td>3.591</td>\n",
       "      <td>3.630</td>\n",
       "      <td>3.550</td>\n",
       "      <td>3.572</td>\n",
       "      <td>3.5850</td>\n",
       "    </tr>\n",
       "    <tr>\n",
       "      <th>2021-06-09</th>\n",
       "      <td>3.570</td>\n",
       "      <td>3.590</td>\n",
       "      <td>3.562</td>\n",
       "      <td>3.582</td>\n",
       "      <td>3.5780</td>\n",
       "    </tr>\n",
       "    <tr>\n",
       "      <th>2021-06-10</th>\n",
       "      <td>3.582</td>\n",
       "      <td>3.630</td>\n",
       "      <td>3.577</td>\n",
       "      <td>3.601</td>\n",
       "      <td>3.6090</td>\n",
       "    </tr>\n",
       "    <tr>\n",
       "      <th>2021-06-11</th>\n",
       "      <td>3.609</td>\n",
       "      <td>3.613</td>\n",
       "      <td>3.566</td>\n",
       "      <td>3.571</td>\n",
       "      <td>3.5830</td>\n",
       "    </tr>\n",
       "  </tbody>\n",
       "</table>\n",
       "<p>1531 rows × 5 columns</p>\n",
       "</div>"
      ],
      "text/plain": [
       "             open   high    low  close  adj_close\n",
       "2015-02-16  2.390  2.403  2.379  2.394     2.3900\n",
       "2015-02-17  2.401  2.429  2.401  2.411     2.4155\n",
       "2015-02-25  2.411  2.411  2.359  2.370     2.3850\n",
       "2015-02-26  2.368  2.452  2.348  2.450     2.4051\n",
       "2015-02-27  2.447  2.465  2.428  2.438     2.4494\n",
       "...           ...    ...    ...    ...        ...\n",
       "2021-06-07  3.604  3.606  3.570  3.593     3.5840\n",
       "2021-06-08  3.591  3.630  3.550  3.572     3.5850\n",
       "2021-06-09  3.570  3.590  3.562  3.582     3.5780\n",
       "2021-06-10  3.582  3.630  3.577  3.601     3.6090\n",
       "2021-06-11  3.609  3.613  3.566  3.571     3.5830\n",
       "\n",
       "[1531 rows x 5 columns]"
      ]
     },
     "execution_count": 112,
     "metadata": {},
     "output_type": "execute_result"
    }
   ],
   "source": [
    "ETF = mat['Contract'].flatten()[0][1]\n",
    "ETF = pd.DataFrame(\n",
    "    ETF, \n",
    "    index=pd.to_datetime(np.array(date_list)), \n",
    "    columns=['open', 'high', 'low', 'close', 'adj_close']\n",
    ")\n",
    "ETF"
   ]
  },
  {
   "cell_type": "markdown",
   "metadata": {},
   "source": [
    "# IH"
   ]
  },
  {
   "cell_type": "code",
   "execution_count": 219,
   "metadata": {},
   "outputs": [
    {
     "name": "stdout",
     "output_type": "stream",
     "text": [
      "(1531, 14)\n"
     ]
    }
   ],
   "source": [
    "IH = mat['Contract'].flatten()[0][2]\n",
    "print(IH.shape)"
   ]
  },
  {
   "cell_type": "code",
   "execution_count": null,
   "metadata": {},
   "outputs": [],
   "source": []
  }
 ],
 "metadata": {
  "kernelspec": {
   "display_name": "Python 3",
   "language": "python",
   "name": "python3"
  },
  "language_info": {
   "codemirror_mode": {
    "name": "ipython",
    "version": 3
   },
   "file_extension": ".py",
   "mimetype": "text/x-python",
   "name": "python",
   "nbconvert_exporter": "python",
   "pygments_lexer": "ipython3",
   "version": "3.7.6"
  },
  "toc-autonumbering": true
 },
 "nbformat": 4,
 "nbformat_minor": 4
}
